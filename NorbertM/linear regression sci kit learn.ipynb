{
 "metadata": {
  "name": "",
  "signature": "sha256:b04fcb4398154a7b26dbe88e0b288dfeb67de0130639bce4db972716c59adb34"
 },
 "nbformat": 3,
 "nbformat_minor": 0,
 "worksheets": [
  {
   "cells": [
    {
     "cell_type": "code",
     "collapsed": false,
     "input": [
      "import pandas as pd\n",
      "import numpy as np\n",
      "import matplotlib\n",
      "from sklearn import datasets, linear_model\n",
      "statsmodel\n",
      "\n",
      "import matplotlib as mpl\n",
      "import matplotlib.pyplot as plt\n",
      "\n",
      "## Optional plot params\n",
      "# mpl.rcParams['font.size'] = 60\n",
      "# mpl.rcParams['axes.labelsize'] = 20\n",
      "# mpl.rcParams['figure.figsize'] = (15, 15)\n",
      "# mpl.rcParams['lines.linewidth'] = 2.0\n",
      "# mpl.rcParams['lines.markersize'] = 20.0\n",
      "\n",
      "%matplotlib inline"
     ],
     "language": "python",
     "metadata": {},
     "outputs": [],
     "prompt_number": 1
    },
    {
     "cell_type": "code",
     "collapsed": false,
     "input": [
      "data = pd.read_csv('http://www-bcf.usc.edu/~gareth/ISL/Advertising.csv', index_col=0)\n",
      "data.head()"
     ],
     "language": "python",
     "metadata": {},
     "outputs": [
      {
       "html": [
        "<div style=\"max-height:1000px;max-width:1500px;overflow:auto;\">\n",
        "<table border=\"1\" class=\"dataframe\">\n",
        "  <thead>\n",
        "    <tr style=\"text-align: right;\">\n",
        "      <th></th>\n",
        "      <th>TV</th>\n",
        "      <th>Radio</th>\n",
        "      <th>Newspaper</th>\n",
        "      <th>Sales</th>\n",
        "    </tr>\n",
        "  </thead>\n",
        "  <tbody>\n",
        "    <tr>\n",
        "      <th>1</th>\n",
        "      <td> 230.1</td>\n",
        "      <td> 37.8</td>\n",
        "      <td> 69.2</td>\n",
        "      <td> 22.1</td>\n",
        "    </tr>\n",
        "    <tr>\n",
        "      <th>2</th>\n",
        "      <td>  44.5</td>\n",
        "      <td> 39.3</td>\n",
        "      <td> 45.1</td>\n",
        "      <td> 10.4</td>\n",
        "    </tr>\n",
        "    <tr>\n",
        "      <th>3</th>\n",
        "      <td>  17.2</td>\n",
        "      <td> 45.9</td>\n",
        "      <td> 69.3</td>\n",
        "      <td>  9.3</td>\n",
        "    </tr>\n",
        "    <tr>\n",
        "      <th>4</th>\n",
        "      <td> 151.5</td>\n",
        "      <td> 41.3</td>\n",
        "      <td> 58.5</td>\n",
        "      <td> 18.5</td>\n",
        "    </tr>\n",
        "    <tr>\n",
        "      <th>5</th>\n",
        "      <td> 180.8</td>\n",
        "      <td> 10.8</td>\n",
        "      <td> 58.4</td>\n",
        "      <td> 12.9</td>\n",
        "    </tr>\n",
        "  </tbody>\n",
        "</table>\n",
        "</div>"
       ],
       "metadata": {},
       "output_type": "pyout",
       "prompt_number": 2,
       "text": [
        "      TV  Radio  Newspaper  Sales\n",
        "1  230.1   37.8       69.2   22.1\n",
        "2   44.5   39.3       45.1   10.4\n",
        "3   17.2   45.9       69.3    9.3\n",
        "4  151.5   41.3       58.5   18.5\n",
        "5  180.8   10.8       58.4   12.9"
       ]
      }
     ],
     "prompt_number": 2
    },
    {
     "cell_type": "code",
     "collapsed": false,
     "input": [
      "regressor = linear_model.LinearRegression(fit_intercept=True)\n",
      "\n",
      "# This 'pads' the x axis with an extra column for the fit function\n",
      "x = data.TV.values\n",
      "y = data.Sales.values\n",
      "\n",
      "regressor.fit(x[:, np.newaxis], y)\n",
      "\n",
      "# These should be the same\n",
      "print \"SKlearn Beta1:\", regressor.coef_\n",
      "print \"SKlearn Beta0:\", regressor.intercept_\n",
      "print \"SKlearn R-squared:\", regressor.score(x[:, np.newaxis], y)\n",
      "\n",
      "plt.hist()"
     ],
     "language": "python",
     "metadata": {},
     "outputs": [
      {
       "output_type": "stream",
       "stream": "stdout",
       "text": [
        "SKlearn Beta1: [ 0.04753664]\n",
        "SKlearn Beta0: 7.03259354913\n",
        "SKlearn R-squared: 0.61187505085\n"
       ]
      }
     ],
     "prompt_number": 3
    }
   ],
   "metadata": {}
  }
 ]
}