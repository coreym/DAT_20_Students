{
 "metadata": {
  "name": "",
  "signature": "sha256:cf4e4825f3b970e9f97cc9fa0daf151ed07c4ed57a616276ab3ebadd5b160325"
 },
 "nbformat": 3,
 "nbformat_minor": 0,
 "worksheets": [
  {
   "cells": [
    {
     "cell_type": "markdown",
     "metadata": {},
     "source": [
      "# This is the notebook for my project\n",
      "\n",
      "#For my project, I will be analyzing data obtained from the CFPB, a federal agency that focuses on consumer complaints and issues."
     ]
    },
    {
     "cell_type": "code",
     "collapsed": false,
     "input": [],
     "language": "python",
     "metadata": {},
     "outputs": []
    }
   ],
   "metadata": {}
  }
 ]
}